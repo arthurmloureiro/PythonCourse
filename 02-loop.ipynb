{
 "cells": [
  {
   "cell_type": "markdown",
   "metadata": {},
   "source": [
    "# Learning to use Loops....."
   ]
  },
  {
   "cell_type": "code",
   "execution_count": 5,
   "metadata": {
    "collapsed": false
   },
   "outputs": [
    {
     "name": "stdout",
     "output_type": "stream",
     "text": [
      "o\n",
      "x\n",
      "y\n",
      "g\n",
      "e\n",
      "n\n",
      "\n",
      " there are 6 letters in oxygen\n"
     ]
    }
   ],
   "source": [
    "word='oxygen'\n",
    "for char in word:\n",
    "    print(char)\n",
    "\n",
    "length = 0\n",
    "for char in word:\n",
    "    length=length+1\n",
    "print(\"\\n there are\", length, \"letters in\", word)"
   ]
  },
  {
   "cell_type": "code",
   "execution_count": 10,
   "metadata": {
    "collapsed": false
   },
   "outputs": [
    {
     "name": "stdout",
     "output_type": "stream",
     "text": [
      "1\n",
      "8\n",
      "27\n",
      "64\n",
      "125\n"
     ]
    }
   ],
   "source": [
    "for number in range(1,6):\n",
    "    print(number**3)"
   ]
  },
  {
   "cell_type": "code",
   "execution_count": 20,
   "metadata": {
    "collapsed": false
   },
   "outputs": [
    {
     "name": "stdout",
     "output_type": "stream",
     "text": [
      "e -1\n",
      "v -2\n",
      "i -3\n",
      "l -4\n",
      "evil\n"
     ]
    }
   ],
   "source": [
    "myword='live'\n",
    "new=''\n",
    "for i in range(1,5):\n",
    "    print(myword[-i],-i)\n",
    "    new=new+myword[-i]\n",
    "print(new)"
   ]
  },
  {
   "cell_type": "code",
   "execution_count": 26,
   "metadata": {
    "collapsed": false
   },
   "outputs": [
    {
     "name": "stdout",
     "output_type": "stream",
     "text": [
      "l l\n",
      "i il\n",
      "v vil\n",
      "e evil\n",
      "evil\n"
     ]
    }
   ],
   "source": [
    "newnew=''\n",
    "for char in myword:\n",
    "    newnew = char + newnew\n",
    "    print(char,newnew)\n",
    "print(newnew)"
   ]
  },
  {
   "cell_type": "code",
   "execution_count": null,
   "metadata": {
    "collapsed": true
   },
   "outputs": [],
   "source": []
  }
 ],
 "metadata": {
  "kernelspec": {
   "display_name": "Python 3",
   "language": "python",
   "name": "python3"
  },
  "language_info": {
   "codemirror_mode": {
    "name": "ipython",
    "version": 3
   },
   "file_extension": ".py",
   "mimetype": "text/x-python",
   "name": "python",
   "nbconvert_exporter": "python",
   "pygments_lexer": "ipython3",
   "version": "3.6.0"
  }
 },
 "nbformat": 4,
 "nbformat_minor": 2
}
